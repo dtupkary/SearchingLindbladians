{
 "cells": [
  {
   "cell_type": "markdown",
   "metadata": {},
   "source": [
    "# Code computes $\\Gamma$ matrix for RE for a specific example.\n",
    "\n",
    "### Setup\n",
    "We take a simple two site Hamiltonian connected to bosonic bath, and compute the Redfield equation for it. Let us denote by $\\hat{H}$ the Hamiltonian of the full set-up, including the system and all the baths,\n",
    "$\\hat{H}=\\hat{H}_S + \\epsilon \\hat{H}_{SB} + \\hat{H}_B$.\n",
    "\n",
    "Let the system consist of a two site XXZ spin chain given by $$\n",
    "\\hat{H}_S =  \\frac{\\omega_0}{2} (\\hat{\\sigma}_z^{(1)} +\\hat{\\sigma}_z^{(2)}) -   g(\\hat{\\sigma}_x^{(1)} \\hat{\\sigma}_x^{(2)} + \\hat{\\sigma}_y^{(1)} \\hat{\\sigma}_y^{(2)} + \\Delta \\hat{\\sigma}_z^{(1)} \\hat{\\sigma}_z^{(2)} )$$\n",
    " $$\n",
    " \\hat{H}_{SB}  =\\sum_{r=1}^\\infty  (\\kappa_{ r} \\hat{B}^{ \\dagger}_r \\hat{\\sigma}^{(1)}_{-} + \\kappa_{r}^* \\hat{B}_r \\hat{\\sigma}^{(1)}_+)$$\n",
    " $$\n",
    " \\hat{H}_B= \\sum_{r=1}^\\infty \\Omega_r \\hat{B}^{ \\dagger}_r \\hat{B}_r $$\n"
   ]
  },
  {
   "cell_type": "markdown",
   "metadata": {},
   "source": [
    "The RE for this equation can be computed to be $$\n",
    "\\frac{\\partial \\rho}{\\partial t}  =i [\\rho, \\hat{H}_S]  - \\epsilon ^2   \\sum_{\\alpha, \\gamma=1}^{2^N}  \\Big\\{   \\left[ \\rho  \\ket{E_\\alpha} \\bra{E_\\alpha} \\hat{\\sigma}^1_-  \\ket{E_\\gamma} \\bra{E_\\gamma} ,  \\hat{\\sigma}^l_+   \\right]   C(\\alpha,\\gamma) +\\left[\\hat{\\sigma}^1_+  ,  \\ket{E_\\alpha} \\bra{E_\\alpha} \\hat{\\sigma}^l_-  \\ket{E_\\gamma}\\bra{E_\\gamma} \\rho \\right]  D(\\alpha,\\gamma) +\\text{H.c}  \\Big\\}$$\n",
    "\n",
    "\n",
    "\n",
    "\n"
   ]
  },
  {
   "cell_type": "markdown",
   "metadata": {},
   "source": [
    "where\n",
    "$$\n",
    "C(\\alpha,\\gamma) = \\frac{\\mathfrak{J}(E_{\\gamma \\alpha}) n(E_{\\gamma \\alpha})}{2 } - i \\mathcal{P} \\int_{0}^{\\infty} d \\omega \\frac{\\mathfrak{J}(\\omega) n(\\omega)}{\\omega-E_{\\gamma \\alpha}},  \\\\\n",
    "D(\\alpha,\\gamma) = \\frac{ e^{\\beta(E_{\\gamma \\alpha}-\\mu_{1})} \\mathfrak{J}(E_{\\gamma \\alpha}) n(E_{\\gamma \\alpha})}{2 }- i \\mathcal{P} \\int_{0}^{\\infty} d \\omega \\frac{e^{\\beta(\\omega-\\mu)} \\mathfrak{J}(\\omega) n(\\omega)}{\\omega-E_{\\gamma \\alpha}},\n",
    "$$"
   ]
  },
  {
   "cell_type": "markdown",
   "metadata": {},
   "source": [
    "Here $\\ket{E_\\alpha}$ and $\\ket{E_\\gamma}$ are eigenkets of the system hamiltonian and, with eigenenergies $E_\\alpha$ and $E_\\gamma$, where $E_{\\gamma \\alpha} = E_\\gamma-E_\\alpha$. The dynamics of the system are governed by the bath spectral functions, defined as $\\mathfrak{J}(\\omega)=  \\sum_k 2 \\pi \\left| \\kappa_{ k} \\right|^2 \\delta (\\omega-\\Omega_k) $ and the Bose distribution, $n(\\omega)=[e^{\\beta_(\\omega-\\mu)}- 1]^{-1}$, "
   ]
  },
  {
   "cell_type": "markdown",
   "metadata": {},
   "source": [
    "We have shown, any generic RE is given by $$\\frac{\\partial {\\rho}}{\\partial t}=i[ \\rho(t),H_S]  + \\epsilon^2  \\sum_{l}  [S^\\dagger_l , S_l^{(1)} \\rho(t) ] - [S^\\dagger_l , \\rho(t) S_l^{(2)}] + \\text{H.c}. $$ "
   ]
  },
  {
   "cell_type": "markdown",
   "metadata": {},
   "source": [
    "Comparing the two equations, we can see that there is only value of $l$ since there is only one bath, and \n",
    "$$ \n",
    "S^\\dagger_l = \\sigma_+^{(1)}, \\quad S_l = \\sigma_-^{(1)} \n",
    "$$\n",
    "$$\n",
    " \\quad S_l^{(1)} =  \\ket{E_\\alpha} \\bra{E_\\alpha} \\hat{\\sigma}^l_-  \\ket{E_\\gamma}\\bra{E_\\gamma}   D(\\alpha,\\gamma), \\quad S_l^{(2)} = \\ket{E_\\alpha} \\bra{E_\\alpha} \\hat{\\sigma}^1_-  \\ket{E_\\gamma} \\bra{E_\\gamma}   C(\\alpha,\\gamma) \n",
    "$$"
   ]
  },
  {
   "cell_type": "markdown",
   "metadata": {},
   "source": [
    "Therefore the above operators can be constructed numerically. Then we must prepare an appropriate orthonormal basis $F_\\alpha$ for the operators, and then expand the above operators in that basis, giving\n",
    "$$\n",
    "S_l=\\sum_{\\alpha=1}^{d^2} a_{l \\alpha} F_\\alpha   (a_{l \\alpha}=0,  \\forall  d_L^2 \\leq \\alpha \\leq d^2 -1 )  $$ \n",
    "$$\n",
    "S^\\dagger_l=\\sum_{\\alpha=1}^{d^2} a^\\prime_{l \\alpha} F_\\alpha   (a^\\prime_{l \\alpha}=0,  \\forall  d_L^2 \\leq \\alpha \\leq d^2 -1 ) $$\n",
    "$$\n",
    "S^{(1)}_l=\\sum_{\\alpha=1}^{d^2} b_{l \\alpha} F_\\alpha, \\quad   S^{(1) \\dagger}_l=\\sum_{\\alpha=1}^{d^2} b^\\prime_{l \\alpha} F_\\alpha  $$\n",
    "$$\n",
    "S^{(2)}_l=\\sum_{\\alpha=1}^{d^2} c_{l \\alpha} F_\\alpha , \\quad  S^{(2) \\dagger }_l=\\sum_{\\alpha=1}^{d^2} c^\\prime_{l \\alpha} F_\\alpha \n",
    "$$"
   ]
  },
  {
   "cell_type": "markdown",
   "metadata": {},
   "source": [
    "Then, $\\Gamma$ matrix will given interms of the the above basis and coefficients."
   ]
  },
  {
   "cell_type": "markdown",
   "metadata": {},
   "source": [
    "## Code starts"
   ]
  },
  {
   "cell_type": "code",
   "execution_count": 1,
   "metadata": {},
   "outputs": [],
   "source": [
    "from qutip import *\n",
    "import numpy as np\n",
    "from scipy import integrate\n",
    "from helper_code_qutip import * \n",
    "import pandas as pd"
   ]
  },
  {
   "cell_type": "code",
   "execution_count": 2,
   "metadata": {},
   "outputs": [],
   "source": [
    "\n",
    "b = 500 #upper bound on integration\n",
    "limit_value = 700\n",
    "N = 2\n",
    "g= 0.1\n",
    "w0 = 1\n",
    "\n",
    "w0list= [1,1]\n",
    "glist = [g]\n",
    "\n",
    "tb = 0.01\n",
    "epsilon = 0.1\n",
    "\n",
    "beta=1\n",
    "mu=-0.5\n",
    "    \n",
    "delta=1\n"
   ]
  },
  {
   "cell_type": "code",
   "execution_count": 3,
   "metadata": {},
   "outputs": [],
   "source": [
    "\n",
    "c_1 = create_sm(N,1) # minus operator on first spin.\n",
    "\n",
    "H_S = create_hamiltonian(w0list,glist,delta,N) \n",
    "\n",
    "eigenergies,eigstates=H_S.eigenstates()\n",
    "number = len(eigenergies)\n"
   ]
  },
  {
   "cell_type": "code",
   "execution_count": 4,
   "metadata": {},
   "outputs": [],
   "source": [
    "## We now start computing the integrals needed to compute the C and D coeefficients\n",
    "\n",
    "integral11 = np.empty((number,number),dtype = np.cdouble) # stores J*N integral\n",
    "integral12 = np.empty((number,number),dtype = np.cdouble) # stores J integral\n",
    "\n",
    "for i in range(number):\n",
    "    for k in range(number):\n",
    "        freq = eigenergies[k]-eigenergies[i]\n",
    "\n",
    "        if( np.absolute(freq) >= 1/10**10):\n",
    "            integral11[i,k]=(-1.0j/(2*np.pi))*integrate.quad(func1,0,b,args=(tb,beta,mu,1),limit=limit_value,weight='cauchy',wvar=eigenergies[k]-eigenergies[i])[0] #func 1\n",
    "            integral12[i,k]=(-1.0j/(2*np.pi))*integrate.quad(spectral_bath,0,b,args=(tb,1),limit=limit_value,weight='cauchy',wvar=eigenergies[k]-eigenergies[i])[0]  #left bath done\n",
    "                \n",
    "        if (np.absolute(freq)<=1/10**10):\n",
    "            integral11[i,k]=(-1.0j/(2*np.pi))*integrate.quad(func2,0,b,args=(tb,beta,mu,1),limit=limit_value)[0]\n",
    "            integral12[i,k]=(-1.0j/(2*np.pi))*integrate.quad(spectral_bath_2,0,b,args=(tb,1),limit=limit_value)[0]\n",
    "                \n",
    "            \n",
    "            \n",
    "   "
   ]
  },
  {
   "cell_type": "code",
   "execution_count": 5,
   "metadata": {},
   "outputs": [],
   "source": [
    " \n",
    "constantD=np.empty((number,number),dtype=np.cdouble)\n",
    "constantC=np.empty((number,number),dtype=np.cdouble)\n",
    "\n",
    "for i in range(number):\n",
    "    for k in range(number):\n",
    "        constantD[i,k]=integral12[i,k]+integral11[i,k]+0.5*(spectral_bath(eigenergies[k]-eigenergies[i],tb,1)+func1(eigenergies[k]-eigenergies[i],tb,beta,mu,1))    # this is nbar+1\n",
    "        constantC[i,k]=integral11[i,k]+0.5*func1(eigenergies[k]-eigenergies[i],tb,beta,mu,1)   # this is nbar\n",
    "            \n"
   ]
  },
  {
   "cell_type": "code",
   "execution_count": 6,
   "metadata": {},
   "outputs": [],
   "source": [
    "# Construct S_1\n",
    "\n",
    "S_1 = 0\n",
    "S_2 = 0\n",
    "\n",
    "for i in range(number):\n",
    "    for k in range(number):\n",
    "       \n",
    "        S_1 = S_1 + constantD[i,k]*eigstates[i].dag()*c_1*eigstates[k]*eigstates[i]*eigstates[k].dag()\n",
    "        S_2 = S_2 + constantC[i,k]*eigstates[i].dag()*c_1*eigstates[k]*eigstates[i]*eigstates[k].dag()\n",
    "\n",
    "\n",
    "   \n",
    "        "
   ]
  },
  {
   "cell_type": "markdown",
   "metadata": {},
   "source": [
    "## Orthonormal basis\n",
    "Now that we are done with constructing all our operators, we will have to construct our orthonormal basis for $f_i$, $g_i$. "
   ]
  },
  {
   "cell_type": "code",
   "execution_count": 7,
   "metadata": {},
   "outputs": [],
   "source": [
    "dim1 = 2\n",
    "dim2 = 2 #dimensions of the two parts of the system\n",
    "d=dim1*dim2\n",
    "\n",
    "list1 = create_basis_startingwith_identity(dim1)\n",
    "list2 = create_basis_startingwith_identity(dim2)\n",
    "\n",
    "ortho_list1 = GramSchmidt(list1)\n",
    "ortho_list2 = GramSchmidt(list2)\n"
   ]
  },
  {
   "cell_type": "code",
   "execution_count": 8,
   "metadata": {},
   "outputs": [],
   "source": [
    "\n",
    "basis_list = []\n",
    "\n",
    "\n",
    "\n",
    "for i in range(dim1**2-1):\n",
    "    oper = tensor(ortho_list1[i],ortho_list2[-1])\n",
    "    basis_list.append(oper)\n",
    "\n",
    "for index1 in range(dim1**2):\n",
    "    for index2 in range((dim2**2)-1):\n",
    "\n",
    "        oper = tensor(ortho_list1[index1],ortho_list2[index2])\n",
    "        basis_list.append(oper)\n",
    "\n",
    "if len(basis_list) != (d)**2-1:\n",
    "    print(\"basis is of wrong length\", len(basis_list))\n",
    "\n",
    "\n"
   ]
  },
  {
   "cell_type": "markdown",
   "metadata": {},
   "source": [
    "We now have basis_list with our correct basis. Next we coompute the coeefficients. The relevant formulae are"
   ]
  },
  {
   "cell_type": "markdown",
   "metadata": {},
   "source": [
    "$$\n",
    "S^\\dagger_l = \\sigma_+^{(1)}, \\quad S_l = \\sigma_-^{(1)} \n",
    "$$\n",
    "$$ \n",
    "\\quad S_l^{(1)} =  \\ket{E_\\alpha} \\bra{E_\\alpha} \\hat{\\sigma}^l_-  \\ket{E_\\gamma}\\bra{E_\\gamma}   D(\\alpha,\\gamma), \\quad S_l^{(2)} = \\ket{E_\\alpha} \\bra{E_\\alpha} \\hat{\\sigma}^1_-  \\ket{E_\\gamma} \\bra{E_\\gamma}   C(\\alpha,\\gamma) \n",
    "$$"
   ]
  },
  {
   "cell_type": "markdown",
   "metadata": {},
   "source": [
    "$$\n",
    "S_l=\\sum_{\\alpha=1}^{d^2} a_{l \\alpha} F_\\alpha   (a_{l \\alpha}=0,  \\forall  d_L^2 \\leq \\alpha \\leq d^2 -1 )  \n",
    "$$\n",
    "$$\n",
    "S^\\dagger_l=\\sum_{\\alpha=1}^{d^2} a^\\prime_{l \\alpha} F_\\alpha   (a^\\prime_{l \\alpha}=0,  \\forall  d_L^2 \\leq \\alpha \\leq d^2 -1 ) $$\n",
    "$$\n",
    "S^{(1)}_l=\\sum_{\\alpha=1}^{d^2} b_{l \\alpha} F_\\alpha, \\quad   S^{(1) \\dagger}_l=\\sum_{\\alpha=1}^{d^2} b^\\prime_{l \\alpha} F_\\alpha  $$\n",
    "$$\n",
    "S^{(2)}_l=\\sum_{\\alpha=1}^{d^2} c_{l \\alpha} F_\\alpha , \\quad  S^{(2) \\dagger }_l=\\sum_{\\alpha=1}^{d^2} c^\\prime_{l \\alpha} F_\\alpha \n",
    "$$"
   ]
  },
  {
   "cell_type": "code",
   "execution_count": 9,
   "metadata": {},
   "outputs": [],
   "source": [
    "# computing a\n",
    "a_coeff = np.zeros((d*d),dtype = np.cdouble)\n",
    "aprime_coeff = np.zeros((d*d),dtype = np.cdouble)\n",
    "b_coeff = np.zeros((d*d),dtype = np.cdouble)\n",
    "bprime_coeff = np.zeros((d*d),dtype = np.cdouble)\n",
    "c_coeff = np.zeros((d*d),dtype = np.cdouble)\n",
    "cprime_coeff = np.zeros((d*d),dtype = np.cdouble)\n",
    "\n",
    "for index in range(d*2):\n",
    "    a_coeff[index] = hilbert_schmidt_innerproduct(basis_list[index],c_1.dag())\n",
    "    aprime_coeff[index] = hilbert_schmidt_innerproduct(basis_list[index],c_1)\n",
    "\n",
    "    b_coeff[index] = hilbert_schmidt_innerproduct(basis_list[index],S_1)\n",
    "    bprime_coeff[index] = hilbert_schmidt_innerproduct(basis_list[index],S_1.dag())\n",
    "\n",
    "    c_coeff[index] = hilbert_schmidt_innerproduct(basis_list[index],S_2)\n",
    "    cprime_coeff[index] = hilbert_schmidt_innerproduct(basis_list[index],S_2.dag())"
   ]
  },
  {
   "cell_type": "markdown",
   "metadata": {},
   "source": [
    "Constructing the $\\gamma$ matrix. (Note that the actual gamma matrix has an addition factor of $\\epsilon^2$ sitting in front)"
   ]
  },
  {
   "cell_type": "code",
   "execution_count": 10,
   "metadata": {},
   "outputs": [],
   "source": [
    "gamma = np.zeros((d**2-1,d**2-1),dtype = np.cdouble)\n",
    "\n",
    "for i in range(d**2-1):\n",
    "    for k in range(d**2-1):\n",
    "        gamma[i,k] = a_coeff[i].conj()*b_coeff[k] + cprime_coeff[i].conj()*aprime_coeff[k]+b_coeff[i].conj()*a_coeff[k]+aprime_coeff[i].conj()*cprime_coeff[k]\n"
   ]
  },
  {
   "cell_type": "code",
   "execution_count": 11,
   "metadata": {},
   "outputs": [],
   "source": [
    "## Store the matrix in a CSV file\n",
    "\n",
    "labels = []\n",
    "for i in range(15):\n",
    "    labels.append(str(i+1))\n",
    "    \n",
    "pd.set_option(\"display.precision\", 2)\n",
    "\n",
    "df = pd.DataFrame(gamma,columns = labels,index = labels) #creates a data frame\n",
    "df.to_csv(\"gamma.csv\")\n"
   ]
  },
  {
   "cell_type": "code",
   "execution_count": 12,
   "metadata": {},
   "outputs": [
    {
     "name": "stdout",
     "output_type": "stream",
     "text": [
      "           1           2           3         4           5           6  \\\n",
      "1   0.0+0.0j  0.00+0.00j  0.00+0.00j  0.0+0.0j  0.00+0.00j  0.00+0.00j   \n",
      "2   0.0+0.0j  0.00+0.00j  1.54+3.43j  0.0+0.0j  0.00+0.00j  0.01+0.05j   \n",
      "3   0.0+0.0j  1.54-3.43j  0.00+0.00j  0.0+0.0j -0.18-0.01j  0.00+0.00j   \n",
      "4   0.0+0.0j  0.00+0.00j  0.00+0.00j  0.0+0.0j  0.00+0.00j  0.00+0.00j   \n",
      "5   0.0+0.0j  0.00+0.00j -0.18+0.01j  0.0+0.0j  0.00+0.00j  0.00+0.00j   \n",
      "6   0.0+0.0j  0.01-0.05j  0.00+0.00j  0.0+0.0j  0.00+0.00j  0.00+0.00j   \n",
      "7   0.0+0.0j  0.00+0.00j  0.18-0.01j  0.0+0.0j  0.00+0.00j  0.00+0.00j   \n",
      "8   0.0+0.0j  0.00+0.00j  0.00+0.00j  0.0+0.0j  0.00+0.00j  0.00+0.00j   \n",
      "9   0.0+0.0j  0.00+0.00j  0.00+0.00j  0.0+0.0j  0.00+0.00j  0.00+0.00j   \n",
      "10  0.0+0.0j  0.00+0.00j  0.00+0.00j  0.0+0.0j  0.00+0.00j  0.00+0.00j   \n",
      "11  0.0+0.0j  0.00+0.00j  0.00+0.00j  0.0+0.0j  0.00+0.00j  0.00+0.00j   \n",
      "12  0.0+0.0j  0.00+0.00j  0.00+0.00j  0.0+0.0j  0.00+0.00j  0.00+0.00j   \n",
      "13  0.0+0.0j  0.00+0.00j  0.00+0.00j  0.0+0.0j  0.00+0.00j  0.00+0.00j   \n",
      "14  0.0+0.0j  0.00+0.00j  0.00+0.00j  0.0+0.0j  0.00+0.00j  0.00+0.00j   \n",
      "15  0.0+0.0j  0.00+0.00j  0.00+0.00j  0.0+0.0j  0.00+0.00j  0.00+0.00j   \n",
      "\n",
      "             7         8         9        10        11        12        13  \\\n",
      "1   0.00+0.00j  0.0+0.0j  0.0+0.0j  0.0+0.0j  0.0+0.0j  0.0+0.0j  0.0+0.0j   \n",
      "2   0.00+0.00j  0.0+0.0j  0.0+0.0j  0.0+0.0j  0.0+0.0j  0.0+0.0j  0.0+0.0j   \n",
      "3   0.18+0.01j  0.0+0.0j  0.0+0.0j  0.0+0.0j  0.0+0.0j  0.0+0.0j  0.0+0.0j   \n",
      "4   0.00+0.00j  0.0+0.0j  0.0+0.0j  0.0+0.0j  0.0+0.0j  0.0+0.0j  0.0+0.0j   \n",
      "5   0.00+0.00j  0.0+0.0j  0.0+0.0j  0.0+0.0j  0.0+0.0j  0.0+0.0j  0.0+0.0j   \n",
      "6   0.00+0.00j  0.0+0.0j  0.0+0.0j  0.0+0.0j  0.0+0.0j  0.0+0.0j  0.0+0.0j   \n",
      "7   0.00+0.00j  0.0+0.0j  0.0+0.0j  0.0+0.0j  0.0+0.0j  0.0+0.0j  0.0+0.0j   \n",
      "8   0.00+0.00j  0.0+0.0j  0.0+0.0j  0.0+0.0j  0.0+0.0j  0.0+0.0j  0.0+0.0j   \n",
      "9   0.00+0.00j  0.0+0.0j  0.0+0.0j  0.0+0.0j  0.0+0.0j  0.0+0.0j  0.0+0.0j   \n",
      "10  0.00+0.00j  0.0+0.0j  0.0+0.0j  0.0+0.0j  0.0+0.0j  0.0+0.0j  0.0+0.0j   \n",
      "11  0.00+0.00j  0.0+0.0j  0.0+0.0j  0.0+0.0j  0.0+0.0j  0.0+0.0j  0.0+0.0j   \n",
      "12  0.00+0.00j  0.0+0.0j  0.0+0.0j  0.0+0.0j  0.0+0.0j  0.0+0.0j  0.0+0.0j   \n",
      "13  0.00+0.00j  0.0+0.0j  0.0+0.0j  0.0+0.0j  0.0+0.0j  0.0+0.0j  0.0+0.0j   \n",
      "14  0.00+0.00j  0.0+0.0j  0.0+0.0j  0.0+0.0j  0.0+0.0j  0.0+0.0j  0.0+0.0j   \n",
      "15  0.00+0.00j  0.0+0.0j  0.0+0.0j  0.0+0.0j  0.0+0.0j  0.0+0.0j  0.0+0.0j   \n",
      "\n",
      "          14        15  \n",
      "1   0.0+0.0j  0.0+0.0j  \n",
      "2   0.0+0.0j  0.0+0.0j  \n",
      "3   0.0+0.0j  0.0+0.0j  \n",
      "4   0.0+0.0j  0.0+0.0j  \n",
      "5   0.0+0.0j  0.0+0.0j  \n",
      "6   0.0+0.0j  0.0+0.0j  \n",
      "7   0.0+0.0j  0.0+0.0j  \n",
      "8   0.0+0.0j  0.0+0.0j  \n",
      "9   0.0+0.0j  0.0+0.0j  \n",
      "10  0.0+0.0j  0.0+0.0j  \n",
      "11  0.0+0.0j  0.0+0.0j  \n",
      "12  0.0+0.0j  0.0+0.0j  \n",
      "13  0.0+0.0j  0.0+0.0j  \n",
      "14  0.0+0.0j  0.0+0.0j  \n",
      "15  0.0+0.0j  0.0+0.0j  \n"
     ]
    }
   ],
   "source": [
    "print(df)"
   ]
  }
 ],
 "metadata": {
  "kernelspec": {
   "display_name": "Python 3.9.12 ('bachelors_thesis')",
   "language": "python",
   "name": "python3"
  },
  "language_info": {
   "codemirror_mode": {
    "name": "ipython",
    "version": 3
   },
   "file_extension": ".py",
   "mimetype": "text/x-python",
   "name": "python",
   "nbconvert_exporter": "python",
   "pygments_lexer": "ipython3",
   "version": "3.9.12"
  },
  "orig_nbformat": 4,
  "vscode": {
   "interpreter": {
    "hash": "3b97392c4d7e63d3f462513e6561effce11c99a349b0b44c3d54d7538cfeb4b2"
   }
  }
 },
 "nbformat": 4,
 "nbformat_minor": 2
}
