{
 "cells": [
  {
   "cell_type": "markdown",
   "metadata": {},
   "source": [
    "We want to test the steady states obtained form the optimal $\\Gamma^{(L)}$ outputted by CVX. This code lets us do that. First we need to import our modules and import our data."
   ]
  },
  {
   "cell_type": "code",
   "execution_count": 109,
   "metadata": {},
   "outputs": [],
   "source": [
    "from qutip import *\n",
    "import numpy as np\n",
    "from scipy import integrate\n",
    "from helper_code_qutip import * \n",
    "import scipy.io\n",
    "\n",
    "\n",
    "matlab_data = scipy.io.loadmat('../matlab/thermal_data.mat',mat_dtype=False)  # is set to True, givex complex casting to real errors..\n",
    "\n"
   ]
  },
  {
   "cell_type": "code",
   "execution_count": 110,
   "metadata": {},
   "outputs": [
    {
     "name": "stdout",
     "output_type": "stream",
     "text": [
      "beta is  1.0\n",
      "deltalist is  [1. 1. 1. 1. 1.]\n",
      "w0list is  [1. 1. 1. 1. 1. 1.]\n",
      "glist is [0.1 0.1 0.1 0.1 0.1]\n",
      "NL and NM are  2 4 respectively\n"
     ]
    }
   ],
   "source": [
    "beta = matlab_data[\"beta\"][0,0]\n",
    "beta = float(beta)\n",
    "print('beta is ' ,beta)\n",
    "\n",
    "deltalist = matlab_data[\"deltalist\"][:,0]\n",
    "deltalist = deltalist.astype('float')\n",
    "print('deltalist is ', deltalist)\n",
    "\n",
    "w0list = matlab_data[\"w0list\"][:,0]\n",
    "w0list = w0list.astype('float')\n",
    "print('w0list is ', w0list)\n",
    "\n",
    "glist = matlab_data[\"glist\"][:,0]\n",
    "glist = glist.astype('float')\n",
    "\n",
    "print('glist is', glist)\n",
    "\n",
    "NL = int(matlab_data[\"NL\"][0,0])\n",
    "NM = int(matlab_data[\"NM\"][0,0])\n",
    "\n",
    "print('NL and NM are ', NL, NM, 'respectively')\n",
    "\n",
    "N = NL + NM\n",
    "dL = 2**NL\n",
    "dM = 2**NM\n",
    "d = 2**N\n",
    "dims = [2]*N\n",
    "\n",
    "# Parameters can be modified here for testing purposes. \n",
    "\n"
   ]
  },
  {
   "cell_type": "code",
   "execution_count": 111,
   "metadata": {},
   "outputs": [],
   "source": [
    "H_S = create_hamiltonian_v2(w0list,glist,deltalist,N)\n",
    "eigenenergies, eigenstates = H_S.eigenstates()\n",
    "number = len(eigenenergies) # should be 2^N\n",
    "\n",
    "\n"
   ]
  },
  {
   "cell_type": "code",
   "execution_count": 112,
   "metadata": {},
   "outputs": [],
   "source": [
    "matlab_F_list = matlab_data[\"F\"]\n",
    "F_list = []\n",
    "\n",
    "\n",
    "for index in range(2**dL):\n",
    "    matrix = np.asmatrix(matlab_F_list[0,index])\n",
    "\n",
    "    F_list.append(Qobj(matrix))\n",
    "    \n",
    "if not basis_is_orthonormal(F_list):\n",
    "    print(\"WARNING : Basis is NOT orthonormal\")\n",
    "\n",
    "F_list.pop() #removes the last indentity basis ..\n",
    "\n",
    "for index in range(2**dL-1):\n",
    "    F_list[index].dims = [dims,dims] # makes sure mutliplication will work and QuTiP wont throw errors. \n",
    "\n",
    "gamma_matrix = np.asmatrix(matlab_data[\"gamma_matrix\"])\n",
    "\n",
    "\n"
   ]
  },
  {
   "cell_type": "code",
   "execution_count": 113,
   "metadata": {},
   "outputs": [],
   "source": [
    "[D,U ] = np.linalg.eigh(gamma_matrix)"
   ]
  },
  {
   "cell_type": "markdown",
   "metadata": {},
   "source": [
    "Note that we have gotten now $ U^\\dagger \\Gamma U = D$ where $U$ is a diagonal matrix. Therefore the Dissipator term is written as\n",
    "$$\n",
    "D(\\rho) = \\sum_{\\alpha, \\beta}  \\Gamma_{\\alpha,\\beta} (F_\\beta \\rho F_\\alpha^\\dagger - \\{ F_\\alpha^\\dagger F_\\beta, \\rho\\}/2 ) \\\\\n",
    "= \\sum_{\\alpha, \\beta} \\sum_{i,j} (U_{\\alpha,i} D_{i,j} U^\\dagger_{j,\\beta})  (F_\\beta \\rho F_\\alpha^\\dagger - \\{ F_\\alpha^\\dagger F_\\beta, \\rho\\}/2 )  \\\\\n",
    " = \\sum_{i,j}  D_{i,j}   (L_j \\rho L_i^\\dagger - \\{ L_i^\\dagger L_j, \\rho\\}/2 ) $$\n",
    "\n",
    "where $L_j = \\sum_{\\beta} U^\\dagger_{j,\\beta} F_\\beta $\n",
    "We can define $\\tilde{L}_j = \\sqrt{D_{jj}} L_j$ to get\n",
    "$$ D(\\rho) = \\sum_j ( \\tilde{L}_j \\rho \\tilde{L}_j^\\dagger - \\{ \\tilde{L}_j^\\dagger \\tilde{L}_j, \\rho\\}/2 ) "
   ]
  },
  {
   "cell_type": "code",
   "execution_count": 114,
   "metadata": {},
   "outputs": [],
   "source": [
    "## Constructing the lindblad operators we have\n",
    "\n",
    "L_list = []\n",
    "Udagger = np.transpose(np.conj(U))\n",
    "\n",
    "for j  in range(dL**2-1):\n",
    "    op = 0\n",
    "    for betaindex in range(dL**2-1):    \n",
    "        op = op+Udagger[j,betaindex]* F_list[betaindex]\n",
    "    L_list.append(op)\n",
    "\n",
    "tildeL_list = []\n",
    "\n",
    "for index in range(dL**2-1):\n",
    "    tildeL_list.append(np.sqrt(D[index])*L_list[index])\n",
    "\n"
   ]
  },
  {
   "cell_type": "markdown",
   "metadata": {},
   "source": [
    "We are done with constructing Lindblad operators. Now let us compute the L_2 according to this. Then, we will compute the steadystate.\n"
   ]
  },
  {
   "cell_type": "code",
   "execution_count": 115,
   "metadata": {},
   "outputs": [],
   "source": [
    "rho_gibbs = (-beta*H_S).expm() \n",
    "rho_th = rho_gibbs/rho_gibbs.tr()\n",
    "\n",
    "rhodot_thermal = 0\n",
    "\n",
    "for i in range(dL**2-1):\n",
    "    L = tildeL_list[i]\n",
    "    rhodot_thermal = rhodot_thermal+ L*rho_th*L.dag() - 0.5*L.dag()*L*rho_th - 0.5*rho_th*L.dag()*L\n",
    "\n",
    "violation  = np.zeros((d,1))\n",
    "for i in range(d):\n",
    "    violation[i] = (eigenstates[i].dag()*rhodot_thermal*eigenstates[i]).diag() #affected by ordering of U\n",
    "\n",
    "\n",
    "rhodot_thermal_v2 = 0\n",
    "\n",
    "for  alphaindex in range(dL**2-1):\n",
    "    for betaindex in range(dL**2-1):\n",
    "        Falpha = F_list[alphaindex]\n",
    "       \n",
    "        Fbeta = F_list[betaindex]\n",
    "       \n",
    "        rhodot_therma_v2 = rhodot_thermal_v2 + gamma_matrix[alphaindex,betaindex]*(Fbeta*rho_th*Falpha.dag()-0.5*Falpha.dag()*Fbeta*rho_th - 0.5*rho_th*Falpha.dag()*Fbeta)\n",
    "\n",
    "\n",
    "violation_v2  = np.zeros((d,1))\n",
    "for i in range(d):\n",
    "    violation_v2[i] = (eigenstates[i].dag()*rhodot_thermal_v2*eigenstates[i]).diag() #affected by ordering of U"
   ]
  },
  {
   "cell_type": "markdown",
   "metadata": {},
   "source": [
    "Now we compute the steady state.."
   ]
  },
  {
   "cell_type": "code",
   "execution_count": 116,
   "metadata": {},
   "outputs": [],
   "source": [
    "H_LS_matrix = matlab_data[\"H_LS\"]\n",
    "H_LS = tensor(Qobj(H_LS_matrix),qeye(dM))\n",
    "H_LS.dims = [dims,dims]\n",
    "rho_ss = steadystate(H_S+H_LS, tildeL_list)\n",
    "\n",
    "trace_dist = tracedist(rho_ss,rho_th)\n",
    "\n",
    "\n",
    "L_operator = liouvillian(H_S+H_LS, tildeL_list)\n",
    "\n",
    "L_eigen = L_operator.eigenenergies()\n"
   ]
  },
  {
   "cell_type": "markdown",
   "metadata": {},
   "source": [
    "We can also compute the SS via a different method by directly constructing L..."
   ]
  },
  {
   "cell_type": "code",
   "execution_count": 117,
   "metadata": {},
   "outputs": [],
   "source": [
    "L_v2 = spre(-1.0j*(H_S+H_LS)) + spost(1.0j*(H_S+H_LS))\n",
    "\n",
    "for alphaindex in range(dL**2-1):\n",
    "    for betaindex in range(dL**2-1):\n",
    "        Falpha = F_list[alphaindex]\n",
    "        Fbeta = F_list[betaindex]\n",
    "        L_v2= L_v2+gamma_matrix[alphaindex,betaindex]*(spre(Fbeta)*spost(Falpha.dag()) - 0.5*spre(Falpha.dag()*Fbeta) - 0.5*spost(Falpha.dag()*Fbeta))\n",
    "\n",
    "\n",
    "rho_ss_v2 = steadystate(L_v2)\n",
    "trace_dist_v2 = tracedist(rho_ss_v2,rho_th)\n",
    "L_eigen_v2 = L_v2.eigenenergies()\n",
    "        "
   ]
  },
  {
   "cell_type": "code",
   "execution_count": 118,
   "metadata": {},
   "outputs": [
    {
     "name": "stdout",
     "output_type": "stream",
     "text": [
      "Trace distance betweens steady state and thermal state is 0.0811477283396092\n",
      "Smallest eigenvalues of L are  [-2.36069306e-03+1.00011678e+00j -2.36069306e-03-1.00011678e+00j\n",
      "  4.95111244e-16+3.93144481e-16j]\n",
      "Trace distance betweens steady state v2 and thermal state is 0.08114772833959769\n",
      "Smallest eigenvalues of L_v2 are  [-2.36069306e-03+1.00011678e+00j -2.36069306e-03-1.00011678e+00j\n",
      " -2.62451595e-15+3.74546141e-15j]\n"
     ]
    }
   ],
   "source": [
    "# print(\"violation is \",violation)\n",
    "#print(\"violation_v2 is \",violation_v2)\n",
    "# print()\n",
    "#print(\"########################################################\")\n",
    " #print()\n",
    "\n",
    "\n",
    "print(\"Trace distance betweens steady state and thermal state is\", trace_dist)\n",
    "\n",
    "print(\"Smallest eigenvalues of L are \", L_eigen[-3:])\n",
    "\n",
    "#print()\n",
    "#print(\"########################################################\")\n",
    "#print()\n",
    "\n",
    "print(\"Trace distance betweens steady state v2 and thermal state is\", trace_dist_v2)\n",
    "\n",
    "print(\"Smallest eigenvalues of L_v2 are \", L_eigen_v2[-3:])"
   ]
  },
  {
   "cell_type": "code",
   "execution_count": 119,
   "metadata": {},
   "outputs": [
    {
     "name": "stdout",
     "output_type": "stream",
     "text": [
      "[-3.60000000e+00 -2.60000000e+00 -2.54428304e+00 -2.37767667e+00\n",
      " -2.13692895e+00 -1.90671250e+00 -1.63439884e+00 -1.60000000e+00\n",
      " -1.54428304e+00 -1.48194392e+00 -1.37767667e+00 -1.34976555e+00\n",
      " -1.24153782e+00 -1.13692895e+00 -1.04709831e+00 -9.06712504e-01\n",
      " -8.00000000e-01 -6.34398838e-01 -6.00000000e-01 -5.44283041e-01\n",
      " -5.38915486e-01 -5.19621977e-01 -4.81943921e-01 -4.10473943e-01\n",
      " -3.77676672e-01 -3.49765547e-01 -2.50667203e-01 -2.41537818e-01\n",
      " -1.36928946e-01 -4.70983075e-02  8.88178420e-16  2.95502591e-02\n",
      "  9.32874965e-02  2.00000000e-01  3.16838740e-01  3.65601162e-01\n",
      "  4.00000000e-01  4.55716959e-01  4.61084514e-01  4.80378023e-01\n",
      "  5.18056079e-01  6.16516819e-01  6.22323328e-01  6.50234453e-01\n",
      "  7.49332797e-01  7.58462182e-01  8.63071054e-01  9.52901692e-01\n",
      "  1.02955026e+00  1.09328750e+00  1.20000000e+00  1.27711838e+00\n",
      "  1.36560116e+00  1.40000000e+00  1.45571696e+00  1.46108451e+00\n",
      "  1.48037802e+00  1.62232333e+00  1.74933280e+00  1.86307105e+00\n",
      "  2.02955026e+00  2.09328750e+00  2.36560116e+00  2.40000000e+00]\n"
     ]
    }
   ],
   "source": [
    "print(eigenenergies) #incase you need to check there are no degenericies"
   ]
  },
  {
   "cell_type": "code",
   "execution_count": null,
   "metadata": {},
   "outputs": [],
   "source": []
  }
 ],
 "metadata": {
  "kernelspec": {
   "display_name": "Python 3.9.12 ('bachelors_thesis')",
   "language": "python",
   "name": "python3"
  },
  "language_info": {
   "codemirror_mode": {
    "name": "ipython",
    "version": 3
   },
   "file_extension": ".py",
   "mimetype": "text/x-python",
   "name": "python",
   "nbconvert_exporter": "python",
   "pygments_lexer": "ipython3",
   "version": "3.9.12"
  },
  "orig_nbformat": 4,
  "vscode": {
   "interpreter": {
    "hash": "3b97392c4d7e63d3f462513e6561effce11c99a349b0b44c3d54d7538cfeb4b2"
   }
  }
 },
 "nbformat": 4,
 "nbformat_minor": 2
}
